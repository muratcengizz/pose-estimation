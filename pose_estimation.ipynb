{
 "cells": [
  {
   "cell_type": "code",
   "execution_count": 2,
   "id": "655c37f9-7168-44d0-82d7-d5cdcc8b19c4",
   "metadata": {},
   "outputs": [],
   "source": [
    "import cv2\n",
    "import mediapipe as mp\n",
    "import time"
   ]
  },
  {
   "cell_type": "code",
   "execution_count": 26,
   "id": "27ed4e5d-78cc-4675-81ed-6c4f03000f2b",
   "metadata": {},
   "outputs": [],
   "source": [
    "video = cv2.VideoCapture(filename='videos/video1.mp4')\n",
    "\n",
    "previous_time, new_time = 0, 0\n",
    "\n",
    "mpPose = mp.solutions.pose\n",
    "pose = mpPose.Pose()\n",
    "\n",
    "mpDraw = mp.solutions.drawing_utils\n",
    "\n",
    "while True:\n",
    "    retval, img = video.read()\n",
    "    if not retval: break\n",
    "    \n",
    "    \n",
    "    # ----------------- FPS -----------------------------\n",
    "    new_time = time.time()\n",
    "    fps = 1 / (new_time - previous_time)\n",
    "    previous_time = new_time\n",
    "    \n",
    "    cv2.putText(img=img,\n",
    "                      text=f\"FPS:{int(fps)}\",\n",
    "                      org=(30, 40),\n",
    "                      fontFace=cv2.FONT_HERSHEY_SIMPLEX,\n",
    "                      fontScale=1,\n",
    "                      color=(0, 0, 255),\n",
    "                      thickness=2)\n",
    "    #! ----------------- FPS -----------------------------\n",
    "\n",
    "    \n",
    "    cv2.cvtColor(src=img, code=cv2.COLOR_BGR2RGB)\n",
    "    results = pose.process(image=img)\n",
    "    if results.pose_landmarks:\n",
    "        mpDraw.draw_landmarks(image=img,\n",
    "                                landmark_list=results.pose_landmarks,\n",
    "                                connections=mpPose.POSE_CONNECTIONS)\n",
    "        \n",
    "        for id, landmarks in enumerate(results.pose_landmarks.landmark):\n",
    "            height, width, color = img.shape\n",
    "            cx, cy = int(landmarks.x * width), int(landmarks.y * height)\n",
    "    \n",
    "    \n",
    "    cv2.imshow(winname='Video', mat=img)\n",
    "    if cv2.waitKey(30) == ord('q'): break\n",
    "\n",
    "video.release()\n",
    "cv2.destroyAllWindows()"
   ]
  },
  {
   "cell_type": "code",
   "execution_count": null,
   "id": "c9c53cb1-4555-4ded-99ad-28d56a1f4751",
   "metadata": {},
   "outputs": [],
   "source": []
  },
  {
   "cell_type": "markdown",
   "id": "aa987df9-2bd6-412b-bdb5-8ef7ffecbe5c",
   "metadata": {},
   "source": [
    "## mediapipe.solutions.pose.Pose(static_image_mode, model_complexity, smooth_landmarks, min_detection_confidence, min_tracking_confidence)\n",
    "### Bu fonksiyon, MediaPipe kütüphanesinin Pose çözümünü kullanarak insanların vücut pozisyonunu tespit etmek için kullanılır. Bu fonksiyon, bir Pose tespiti yapmak ve sonuçları elde etmek için kullanılan bir arayüz sağlar.\n",
    "### static_image_mode (Default=False): Bu parametre, Pose tespitini tek bir görüntü üzerinde gerçekleştirmek için kullanılır. Eğer 'True' olarak ayarlanırsa, fonksiyon her karede ayrı ayrı Pose tespiti yapar.\n",
    "### model_complexity (Default=1): Bu parametre, kullanılacak Pose modelinin karmaşıklığını belirler. Daha büyük bir değer, daha karmaşık bir modeli ifade eder, ancak daha fazla hesaplama gücü gerektirir.\n",
    "### smooth_landmarks (Default=True): Bu parametre, elde edilen vücut işaretlerinin yumuşatılmasını sağlar. Eğer 'True' olarak ayarlanırsa, çıktıdaki işaretlerin daha düzgün bir geçişi sağlanır.\n",
    "### min_detection_confidence (Default=0.5): Bu parametre, Pose tespitinin başarılı kabul edilmesi için minimum güven düzeyini belirler. Bu değer ne kadar yüksekse, tespitin o kadar kesin olması beklenir.\n",
    "### min_tracking_confidence (Default=0.5): Bu parametre, bir vücut parçasının takip edilmesi için minimum güven düzeyini belirler. Bu değer ne kadar yüksekse, takibin o kadar güvenilir olması beklenir.\n",
    "\n",
    "\n",
    "## mediapipe.solutions.pose.Pose().process(image, sensor_timestamp, image_additional_channels, return_detections, return_pose_world_landmarks)\n",
    "### Bu fonksiyon, Pose modelini kullanarak bir görüntüdeki vücut pozisyonunu tespit etmek için kullanılır. Bu fonksiyon, Pose tespiti işlemini gerçekleştirir ve sonuçları elde etmek için kullanılır.\n",
    "### image: Pose tespiti yapılacak olan görüntü.\n",
    "### sensor_timestamp (Opsiyonel): İşlenen karelerin zaman damgasını temsil eden bir değer. Bu parametre, zamanla ilgili işlemlerde kullanılabilir.\n",
    "### image_additional_channels (Opsiyonel): İşlem sırasında kullanılan ekstra görüntü kanalları. Örneğin, derinlik görüntüsü gibi ek bilgileri içerebilir.\n",
    "### return_detections (Default=False): Bu parametre, tespit sonuçlarının döndürülüp döndürülmeyeceğini kontrol eder.\n",
    "### return_pose_world_landmarks (Default=False): Bu parametre, tespit edilen vücut işaretlerinin dünya koordinatlarına göre dönüştürülüp dönüştürülmeyceğini kontrol eder. Eğer 'True' olarak ayarlanırsa, vücut işaretlerinin dünya koordinatlarına göre dönüştürülmüş hali döndürülür."
   ]
  }
 ],
 "metadata": {
  "kernelspec": {
   "display_name": "Python 3 (ipykernel)",
   "language": "python",
   "name": "python3"
  },
  "language_info": {
   "codemirror_mode": {
    "name": "ipython",
    "version": 3
   },
   "file_extension": ".py",
   "mimetype": "text/x-python",
   "name": "python",
   "nbconvert_exporter": "python",
   "pygments_lexer": "ipython3",
   "version": "3.9.12"
  }
 },
 "nbformat": 4,
 "nbformat_minor": 5
}
